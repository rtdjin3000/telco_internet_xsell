{
 "cells": [
  {
   "cell_type": "code",
   "execution_count": 81,
   "metadata": {},
   "outputs": [],
   "source": [
    "#Load Libraries\n",
    "import pandas as pd\n",
    "import numpy as np\n",
    "import matplotlib.pyplot as plt\n",
    "%matplotlib inline\n",
    "pd.set_option('display.max_rows', 100)\n",
    "import warnings\n",
    "warnings.filterwarnings(\"ignore\")\n",
    "\n",
    "#Models\n",
    "from sklearn import model_selection\n",
    "from sklearn.svm import SVC\n",
    "from sklearn.linear_model import LogisticRegression\n",
    "from sklearn.ensemble import RandomForestClassifier\n",
    "from sklearn.tree import DecisionTreeClassifier\n",
    "from xgboost import XGBClassifier"
   ]
  },
  {
   "cell_type": "code",
   "execution_count": 82,
   "metadata": {},
   "outputs": [
    {
     "data": {
      "text/html": [
       "<div>\n",
       "<style scoped>\n",
       "    .dataframe tbody tr th:only-of-type {\n",
       "        vertical-align: middle;\n",
       "    }\n",
       "\n",
       "    .dataframe tbody tr th {\n",
       "        vertical-align: top;\n",
       "    }\n",
       "\n",
       "    .dataframe thead th {\n",
       "        text-align: right;\n",
       "    }\n",
       "</style>\n",
       "<table border=\"1\" class=\"dataframe\">\n",
       "  <thead>\n",
       "    <tr style=\"text-align: right;\">\n",
       "      <th></th>\n",
       "      <th>BAN_hashed</th>\n",
       "      <th>IMSI_hashed</th>\n",
       "      <th>BRAND</th>\n",
       "      <th>DEVICE_MANUFACTURER_TXT</th>\n",
       "      <th>MUNICIPALITY_NM</th>\n",
       "      <th>PROVINCE_STATE_CD</th>\n",
       "      <th>TENURE_DAY_QTY_SCALED</th>\n",
       "      <th>PRICE_PLAN</th>\n",
       "      <th>PROD_TV</th>\n",
       "      <th>PROD_INTERNET</th>\n",
       "      <th>SEGMENT_NM</th>\n",
       "      <th>LOCALITY_NM</th>\n",
       "      <th>LIFESTAGE</th>\n",
       "      <th>THREE_MONTH_AVG_WLN_BILLING_SCALED</th>\n",
       "      <th>THREE_MONTH_AVG_WLS_BILLING_SCALED</th>\n",
       "    </tr>\n",
       "  </thead>\n",
       "  <tbody>\n",
       "    <tr>\n",
       "      <th>0</th>\n",
       "      <td>114717207</td>\n",
       "      <td>906661635071028</td>\n",
       "      <td>T</td>\n",
       "      <td>Apple</td>\n",
       "      <td>SURREY</td>\n",
       "      <td>BC</td>\n",
       "      <td>0.013143</td>\n",
       "      <td>PROMO - Peace of Mind-Unlimited nationwide tal...</td>\n",
       "      <td>1</td>\n",
       "      <td>1</td>\n",
       "      <td>Metro Melting Pot</td>\n",
       "      <td>Midscale Urban Fringe</td>\n",
       "      <td>Middle-Age Families</td>\n",
       "      <td>0.022209</td>\n",
       "      <td>0.052745</td>\n",
       "    </tr>\n",
       "    <tr>\n",
       "      <th>1</th>\n",
       "      <td>112418388</td>\n",
       "      <td>906660952816959</td>\n",
       "      <td>K</td>\n",
       "      <td>Samsung</td>\n",
       "      <td>PORT COQUITLAM</td>\n",
       "      <td>BC</td>\n",
       "      <td>0.261786</td>\n",
       "      <td>$45 2GB Unltd min Plan SFD</td>\n",
       "      <td>1</td>\n",
       "      <td>0</td>\n",
       "      <td>Metro Melting Pot</td>\n",
       "      <td>Midscale Urban Fringe</td>\n",
       "      <td>Middle-Age Families</td>\n",
       "      <td>0.029938</td>\n",
       "      <td>0.095285</td>\n",
       "    </tr>\n",
       "    <tr>\n",
       "      <th>2</th>\n",
       "      <td>53146188</td>\n",
       "      <td>906660062171958</td>\n",
       "      <td>T</td>\n",
       "      <td>Apple</td>\n",
       "      <td>EDMONTON</td>\n",
       "      <td>AB</td>\n",
       "      <td>0.321214</td>\n",
       "      <td>Peace of Mind - Unlimited nationwide talk, tex...</td>\n",
       "      <td>1</td>\n",
       "      <td>0</td>\n",
       "      <td>Social Networkers</td>\n",
       "      <td>Young Urban Core</td>\n",
       "      <td>Very Young Singles &amp; Couples</td>\n",
       "      <td>0.021639</td>\n",
       "      <td>0.047167</td>\n",
       "    </tr>\n",
       "    <tr>\n",
       "      <th>3</th>\n",
       "      <td>30467094</td>\n",
       "      <td>906660089430135</td>\n",
       "      <td>T</td>\n",
       "      <td>Samsung</td>\n",
       "      <td>CALGARY</td>\n",
       "      <td>AB</td>\n",
       "      <td>0.415714</td>\n",
       "      <td>L&amp;R ULNW 5GB shareable data</td>\n",
       "      <td>1</td>\n",
       "      <td>0</td>\n",
       "      <td>Social Networkers</td>\n",
       "      <td>Young Urban Core</td>\n",
       "      <td>Very Young Singles &amp; Couples</td>\n",
       "      <td>0.017315</td>\n",
       "      <td>0.026276</td>\n",
       "    </tr>\n",
       "    <tr>\n",
       "      <th>4</th>\n",
       "      <td>97147194</td>\n",
       "      <td>906661629073089</td>\n",
       "      <td>T</td>\n",
       "      <td>Samsung</td>\n",
       "      <td>VANCOUVER</td>\n",
       "      <td>BC</td>\n",
       "      <td>0.125429</td>\n",
       "      <td>3GB Premium 85 - non-share 500 nationwide minu...</td>\n",
       "      <td>1</td>\n",
       "      <td>0</td>\n",
       "      <td>Social Networkers</td>\n",
       "      <td>Young Urban Core</td>\n",
       "      <td>Very Young Singles &amp; Couples</td>\n",
       "      <td>0.024490</td>\n",
       "      <td>0.051316</td>\n",
       "    </tr>\n",
       "  </tbody>\n",
       "</table>\n",
       "</div>"
      ],
      "text/plain": [
       "   BAN_hashed      IMSI_hashed BRAND DEVICE_MANUFACTURER_TXT MUNICIPALITY_NM  \\\n",
       "0   114717207  906661635071028     T                   Apple          SURREY   \n",
       "1   112418388  906660952816959     K                 Samsung  PORT COQUITLAM   \n",
       "2    53146188  906660062171958     T                   Apple        EDMONTON   \n",
       "3    30467094  906660089430135     T                 Samsung         CALGARY   \n",
       "4    97147194  906661629073089     T                 Samsung       VANCOUVER   \n",
       "\n",
       "  PROVINCE_STATE_CD  TENURE_DAY_QTY_SCALED  \\\n",
       "0                BC               0.013143   \n",
       "1                BC               0.261786   \n",
       "2                AB               0.321214   \n",
       "3                AB               0.415714   \n",
       "4                BC               0.125429   \n",
       "\n",
       "                                          PRICE_PLAN  PROD_TV  PROD_INTERNET  \\\n",
       "0  PROMO - Peace of Mind-Unlimited nationwide tal...        1              1   \n",
       "1                         $45 2GB Unltd min Plan SFD        1              0   \n",
       "2  Peace of Mind - Unlimited nationwide talk, tex...        1              0   \n",
       "3                        L&R ULNW 5GB shareable data        1              0   \n",
       "4  3GB Premium 85 - non-share 500 nationwide minu...        1              0   \n",
       "\n",
       "          SEGMENT_NM            LOCALITY_NM                     LIFESTAGE  \\\n",
       "0  Metro Melting Pot  Midscale Urban Fringe           Middle-Age Families   \n",
       "1  Metro Melting Pot  Midscale Urban Fringe           Middle-Age Families   \n",
       "2  Social Networkers       Young Urban Core  Very Young Singles & Couples   \n",
       "3  Social Networkers       Young Urban Core  Very Young Singles & Couples   \n",
       "4  Social Networkers       Young Urban Core  Very Young Singles & Couples   \n",
       "\n",
       "   THREE_MONTH_AVG_WLN_BILLING_SCALED  THREE_MONTH_AVG_WLS_BILLING_SCALED  \n",
       "0                            0.022209                            0.052745  \n",
       "1                            0.029938                            0.095285  \n",
       "2                            0.021639                            0.047167  \n",
       "3                            0.017315                            0.026276  \n",
       "4                            0.024490                            0.051316  "
      ]
     },
     "execution_count": 82,
     "metadata": {},
     "output_type": "execute_result"
    }
   ],
   "source": [
    "#Load Dataset\n",
    "data=pd.read_csv('./subs.csv')\n",
    "data.head()"
   ]
  },
  {
   "cell_type": "markdown",
   "metadata": {},
   "source": [
    "## Data Preparation"
   ]
  },
  {
   "cell_type": "code",
   "execution_count": 83,
   "metadata": {},
   "outputs": [
    {
     "name": "stdout",
     "output_type": "stream",
     "text": [
      "<class 'pandas.core.frame.DataFrame'>\n",
      "RangeIndex: 20000 entries, 0 to 19999\n",
      "Data columns (total 15 columns):\n",
      " #   Column                              Non-Null Count  Dtype  \n",
      "---  ------                              --------------  -----  \n",
      " 0   BAN_hashed                          20000 non-null  int64  \n",
      " 1   IMSI_hashed                         20000 non-null  int64  \n",
      " 2   BRAND                               20000 non-null  object \n",
      " 3   DEVICE_MANUFACTURER_TXT             19983 non-null  object \n",
      " 4   MUNICIPALITY_NM                     20000 non-null  object \n",
      " 5   PROVINCE_STATE_CD                   19995 non-null  object \n",
      " 6   TENURE_DAY_QTY_SCALED               20000 non-null  float64\n",
      " 7   PRICE_PLAN                          20000 non-null  object \n",
      " 8   PROD_TV                             20000 non-null  int64  \n",
      " 9   PROD_INTERNET                       20000 non-null  int64  \n",
      " 10  SEGMENT_NM                          20000 non-null  object \n",
      " 11  LOCALITY_NM                         20000 non-null  object \n",
      " 12  LIFESTAGE                           20000 non-null  object \n",
      " 13  THREE_MONTH_AVG_WLN_BILLING_SCALED  19670 non-null  float64\n",
      " 14  THREE_MONTH_AVG_WLS_BILLING_SCALED  19821 non-null  float64\n",
      "dtypes: float64(3), int64(4), object(8)\n",
      "memory usage: 2.3+ MB\n"
     ]
    }
   ],
   "source": [
    "#Check Datatypes\n",
    "data.info()"
   ]
  },
  {
   "cell_type": "code",
   "execution_count": 84,
   "metadata": {},
   "outputs": [
    {
     "data": {
      "text/plain": [
       "BAN_hashed                            18557\n",
       "IMSI_hashed                           18814\n",
       "BRAND                                     2\n",
       "DEVICE_MANUFACTURER_TXT                  44\n",
       "MUNICIPALITY_NM                         998\n",
       "PROVINCE_STATE_CD                        13\n",
       "TENURE_DAY_QTY_SCALED                  7230\n",
       "PRICE_PLAN                              729\n",
       "PROD_TV                                   2\n",
       "PROD_INTERNET                             2\n",
       "SEGMENT_NM                               58\n",
       "LOCALITY_NM                              20\n",
       "LIFESTAGE                                 9\n",
       "THREE_MONTH_AVG_WLN_BILLING_SCALED    12664\n",
       "THREE_MONTH_AVG_WLS_BILLING_SCALED    14149\n",
       "dtype: int64"
      ]
     },
     "execution_count": 84,
     "metadata": {},
     "output_type": "execute_result"
    }
   ],
   "source": [
    "data.nunique()"
   ]
  },
  {
   "cell_type": "code",
   "execution_count": 85,
   "metadata": {},
   "outputs": [],
   "source": [
    "data['DEVICE_MANUFACTURER_TXT'] = data['DEVICE_MANUFACTURER_TXT'].str.lower()"
   ]
  },
  {
   "cell_type": "code",
   "execution_count": 86,
   "metadata": {},
   "outputs": [],
   "source": [
    "data = data.drop_duplicates(subset=['BAN_hashed'], keep='last')"
   ]
  },
  {
   "cell_type": "code",
   "execution_count": 87,
   "metadata": {},
   "outputs": [],
   "source": [
    "data.replace('na', np.nan, inplace=True)"
   ]
  },
  {
   "cell_type": "code",
   "execution_count": 88,
   "metadata": {},
   "outputs": [],
   "source": [
    "data['THREE_MONTH_AVG_WLN_BILLING_SCALED'] = data['THREE_MONTH_AVG_WLN_BILLING_SCALED'].replace(np.nan, 0)\n",
    "data['THREE_MONTH_AVG_WLS_BILLING_SCALED'] = data['THREE_MONTH_AVG_WLS_BILLING_SCALED'].replace(np.nan, 0)"
   ]
  },
  {
   "cell_type": "code",
   "execution_count": 89,
   "metadata": {},
   "outputs": [],
   "source": [
    "data['DEVICE_MANUFACTURER_TXT'] = data['DEVICE_MANUFACTURER_TXT'].replace(np.nan, \"BrandX\")\n",
    "data['PROVINCE_STATE_CD'] = data['PROVINCE_STATE_CD'].replace(np.nan, \"NL\")"
   ]
  },
  {
   "cell_type": "code",
   "execution_count": 90,
   "metadata": {},
   "outputs": [
    {
     "data": {
      "text/plain": [
       "BAN_hashed                            0\n",
       "IMSI_hashed                           0\n",
       "BRAND                                 0\n",
       "DEVICE_MANUFACTURER_TXT               0\n",
       "MUNICIPALITY_NM                       0\n",
       "PROVINCE_STATE_CD                     0\n",
       "TENURE_DAY_QTY_SCALED                 0\n",
       "PRICE_PLAN                            0\n",
       "PROD_TV                               0\n",
       "PROD_INTERNET                         0\n",
       "SEGMENT_NM                            0\n",
       "LOCALITY_NM                           0\n",
       "LIFESTAGE                             0\n",
       "THREE_MONTH_AVG_WLN_BILLING_SCALED    0\n",
       "THREE_MONTH_AVG_WLS_BILLING_SCALED    0\n",
       "dtype: int64"
      ]
     },
     "execution_count": 90,
     "metadata": {},
     "output_type": "execute_result"
    }
   ],
   "source": [
    "data.isnull().sum()"
   ]
  },
  {
   "cell_type": "code",
   "execution_count": 91,
   "metadata": {},
   "outputs": [
    {
     "name": "stdout",
     "output_type": "stream",
     "text": [
      "Class Split\n",
      "1    11395\n",
      "0     7162\n",
      "Name: PROD_INTERNET, dtype: int64\n"
     ]
    },
    {
     "data": {
      "text/plain": [
       "Text(0, 0.5, 'Count')"
      ]
     },
     "execution_count": 91,
     "metadata": {},
     "output_type": "execute_result"
    },
    {
     "data": {
      "image/png": "[encoded data removed]",
      "text/plain": [
       "<Figure size 1000x400 with 1 Axes>"
      ]
     },
     "metadata": {},
     "output_type": "display_data"
    }
   ],
   "source": [
    "#Class Balance Check\n",
    "print('Class Split')\n",
    "print(data['PROD_INTERNET'].value_counts())\n",
    "data['PROD_INTERNET'].value_counts().plot.bar(figsize=(10,4),title='Classes Split for Dataset')\n",
    "plt.xlabel('Classes')\n",
    "plt.ylabel('Count')"
   ]
  },
  {
   "cell_type": "code",
   "execution_count": 92,
   "metadata": {},
   "outputs": [
    {
     "name": "stdout",
     "output_type": "stream",
     "text": [
      "Correlated columns @ 0.8: []\n"
     ]
    }
   ],
   "source": [
    "#Find Independent Column Correlations\n",
    "def correlation(dataset,threshold):\n",
    "    col_corr= [] # List of correlated columns\n",
    "    corr_matrix=dataset.corr() #finding correlation between columns\n",
    "    for i in range (len(corr_matrix.columns)): #Number of columns\n",
    "        for j in range (i):\n",
    "            if abs(corr_matrix.iloc[i,j])>threshold: #checking correlation between columns\n",
    "                colName=(corr_matrix.columns[i], corr_matrix.columns[j]) #getting correlated columns\n",
    "                col_corr.append(colName) #adding correlated column name\n",
    "    return col_corr #returning set of column names\n",
    "col=correlation(data,0.8)\n",
    "print('Correlated columns @ 0.8:', col)"
   ]
  },
  {
   "cell_type": "code",
   "execution_count": 93,
   "metadata": {},
   "outputs": [],
   "source": [
    "X = data.drop(columns=['PROD_INTERNET','BAN_hashed'],axis=1)\n",
    "y = data['PROD_INTERNET']"
   ]
  },
  {
   "cell_type": "markdown",
   "metadata": {},
   "source": [
    "## Data Preprocessing"
   ]
  },
  {
   "cell_type": "code",
   "execution_count": 94,
   "metadata": {},
   "outputs": [],
   "source": [
    "# Create Column Transformer with 3 types of transformers\n",
    "num_features = X.select_dtypes(exclude=\"object\").columns\n",
    "cat_less_than_60 = [col for col in data.columns if data[col].dtype =='object' and data[col].nunique()  < 60]\n",
    "cat_more_than_60 = [col for col in data.columns if data[col].dtype =='object' and data[col].nunique()  >= 60]\n",
    "\n",
    "\n",
    "from sklearn.preprocessing import OneHotEncoder, StandardScaler\n",
    "from sklearn.compose import ColumnTransformer\n",
    "import category_encoders as ce\n",
    "\n",
    "numeric_transformer = StandardScaler()\n",
    "oh_transformer = OneHotEncoder(sparse=False, handle_unknown='ignore')\n",
    "encoder = ce.CountEncoder(normalize=True)\n",
    "\n",
    "preprocessor = ColumnTransformer(\n",
    "    [\n",
    "        (\"oh\", oh_transformer, cat_less_than_60),\n",
    "         (\"sc\", numeric_transformer, num_features),\n",
    "         (\"FreqEn\", encoder, cat_more_than_60)    \n",
    "\n",
    "    ]\n",
    ")"
   ]
  },
  {
   "cell_type": "code",
   "execution_count": 95,
   "metadata": {},
   "outputs": [
    {
     "data": {
      "text/plain": [
       "(18557, 147)"
      ]
     },
     "execution_count": 95,
     "metadata": {},
     "output_type": "execute_result"
    }
   ],
   "source": [
    "X_new = preprocessor.fit_transform(X)\n",
    "X_new.shape"
   ]
  },
  {
   "cell_type": "code",
   "execution_count": 96,
   "metadata": {},
   "outputs": [
    {
     "data": {
      "text/html": [
       "<style>#sk-container-id-3 {color: black;background-color: white;}#sk-container-id-3 pre{padding: 0;}#sk-container-id-3 div.sk-toggleable {background-color: white;}#sk-container-id-3 label.sk-toggleable__label {cursor: pointer;display: block;width: 100%;margin-bottom: 0;padding: 0.3em;box-sizing: border-box;text-align: center;}#sk-container-id-3 label.sk-toggleable__label-arrow:before {content: \"▸\";float: left;margin-right: 0.25em;color: #696969;}#sk-container-id-3 label.sk-toggleable__label-arrow:hover:before {color: black;}#sk-container-id-3 div.sk-estimator:hover label.sk-toggleable__label-arrow:before {color: black;}#sk-container-id-3 div.sk-toggleable__content {max-height: 0;max-width: 0;overflow: hidden;text-align: left;background-color: #f0f8ff;}#sk-container-id-3 div.sk-toggleable__content pre {margin: 0.2em;color: black;border-radius: 0.25em;background-color: #f0f8ff;}#sk-container-id-3 input.sk-toggleable__control:checked~div.sk-toggleable__content {max-height: 200px;max-width: 100%;overflow: auto;}#sk-container-id-3 input.sk-toggleable__control:checked~label.sk-toggleable__label-arrow:before {content: \"▾\";}#sk-container-id-3 div.sk-estimator input.sk-toggleable__control:checked~label.sk-toggleable__label {background-color: #d4ebff;}#sk-container-id-3 div.sk-label input.sk-toggleable__control:checked~label.sk-toggleable__label {background-color: #d4ebff;}#sk-container-id-3 input.sk-hidden--visually {border: 0;clip: rect(1px 1px 1px 1px);clip: rect(1px, 1px, 1px, 1px);height: 1px;margin: -1px;overflow: hidden;padding: 0;position: absolute;width: 1px;}#sk-container-id-3 div.sk-estimator {font-family: monospace;background-color: #f0f8ff;border: 1px dotted black;border-radius: 0.25em;box-sizing: border-box;margin-bottom: 0.5em;}#sk-container-id-3 div.sk-estimator:hover {background-color: #d4ebff;}#sk-container-id-3 div.sk-parallel-item::after {content: \"\";width: 100%;border-bottom: 1px solid gray;flex-grow: 1;}#sk-container-id-3 div.sk-label:hover label.sk-toggleable__label {background-color: #d4ebff;}#sk-container-id-3 div.sk-serial::before {content: \"\";position: absolute;border-left: 1px solid gray;box-sizing: border-box;top: 0;bottom: 0;left: 50%;z-index: 0;}#sk-container-id-3 div.sk-serial {display: flex;flex-direction: column;align-items: center;background-color: white;padding-right: 0.2em;padding-left: 0.2em;position: relative;}#sk-container-id-3 div.sk-item {position: relative;z-index: 1;}#sk-container-id-3 div.sk-parallel {display: flex;align-items: stretch;justify-content: center;background-color: white;position: relative;}#sk-container-id-3 div.sk-item::before, #sk-container-id-3 div.sk-parallel-item::before {content: \"\";position: absolute;border-left: 1px solid gray;box-sizing: border-box;top: 0;bottom: 0;left: 50%;z-index: -1;}#sk-container-id-3 div.sk-parallel-item {display: flex;flex-direction: column;z-index: 1;position: relative;background-color: white;}#sk-container-id-3 div.sk-parallel-item:first-child::after {align-self: flex-end;width: 50%;}#sk-container-id-3 div.sk-parallel-item:last-child::after {align-self: flex-start;width: 50%;}#sk-container-id-3 div.sk-parallel-item:only-child::after {width: 0;}#sk-container-id-3 div.sk-dashed-wrapped {border: 1px dashed gray;margin: 0 0.4em 0.5em 0.4em;box-sizing: border-box;padding-bottom: 0.4em;background-color: white;}#sk-container-id-3 div.sk-label label {font-family: monospace;font-weight: bold;display: inline-block;line-height: 1.2em;}#sk-container-id-3 div.sk-label-container {text-align: center;}#sk-container-id-3 div.sk-container {/* jupyter's `normalize.less` sets `[hidden] { display: none; }` but bootstrap.min.css set `[hidden] { display: none !important; }` so we also need the `!important` here to be able to override the default hidden behavior on the sphinx rendered scikit-learn.org. See: https://github.com/scikit-learn/scikit-learn/issues/21755 */display: inline-block !important;position: relative;}#sk-container-id-3 div.sk-text-repr-fallback {display: none;}</style><div id=\"sk-container-id-3\" class=\"sk-top-container\"><div class=\"sk-text-repr-fallback\"><pre>ColumnTransformer(transformers=[(&#x27;oh&#x27;,\n",
       "                                 OneHotEncoder(handle_unknown=&#x27;ignore&#x27;,\n",
       "                                               sparse=False),\n",
       "                                 [&#x27;BRAND&#x27;, &#x27;DEVICE_MANUFACTURER_TXT&#x27;,\n",
       "                                  &#x27;PROVINCE_STATE_CD&#x27;, &#x27;SEGMENT_NM&#x27;,\n",
       "                                  &#x27;LOCALITY_NM&#x27;, &#x27;LIFESTAGE&#x27;]),\n",
       "                                (&#x27;sc&#x27;, StandardScaler(),\n",
       "                                 Index([&#x27;IMSI_hashed&#x27;, &#x27;TENURE_DAY_QTY_SCALED&#x27;, &#x27;PROD_TV&#x27;,\n",
       "       &#x27;THREE_MONTH_AVG_WLN_BILLING_SCALED&#x27;,\n",
       "       &#x27;THREE_MONTH_AVG_WLS_BILLING_SCALED&#x27;],\n",
       "      dtype=&#x27;object&#x27;)),\n",
       "                                (&#x27;FreqEn&#x27;,\n",
       "                                 CountEncoder(combine_min_nan_groups=True,\n",
       "                                              normalize=True),\n",
       "                                 [&#x27;MUNICIPALITY_NM&#x27;, &#x27;PRICE_PLAN&#x27;])])</pre><b>In a Jupyter environment, please rerun this cell to show the HTML representation or trust the notebook. <br />On GitHub, the HTML representation is unable to render, please try loading this page with nbviewer.org.</b></div><div class=\"sk-container\" hidden><div class=\"sk-item sk-dashed-wrapped\"><div class=\"sk-label-container\"><div class=\"sk-label sk-toggleable\"><input class=\"sk-toggleable__control sk-hidden--visually\" id=\"sk-estimator-id-17\" type=\"checkbox\" ><label for=\"sk-estimator-id-17\" class=\"sk-toggleable__label sk-toggleable__label-arrow\">ColumnTransformer</label><div class=\"sk-toggleable__content\"><pre>ColumnTransformer(transformers=[(&#x27;oh&#x27;,\n",
       "                                 OneHotEncoder(handle_unknown=&#x27;ignore&#x27;,\n",
       "                                               sparse=False),\n",
       "                                 [&#x27;BRAND&#x27;, &#x27;DEVICE_MANUFACTURER_TXT&#x27;,\n",
       "                                  &#x27;PROVINCE_STATE_CD&#x27;, &#x27;SEGMENT_NM&#x27;,\n",
       "                                  &#x27;LOCALITY_NM&#x27;, &#x27;LIFESTAGE&#x27;]),\n",
       "                                (&#x27;sc&#x27;, StandardScaler(),\n",
       "                                 Index([&#x27;IMSI_hashed&#x27;, &#x27;TENURE_DAY_QTY_SCALED&#x27;, &#x27;PROD_TV&#x27;,\n",
       "       &#x27;THREE_MONTH_AVG_WLN_BILLING_SCALED&#x27;,\n",
       "       &#x27;THREE_MONTH_AVG_WLS_BILLING_SCALED&#x27;],\n",
       "      dtype=&#x27;object&#x27;)),\n",
       "                                (&#x27;FreqEn&#x27;,\n",
       "                                 CountEncoder(combine_min_nan_groups=True,\n",
       "                                              normalize=True),\n",
       "                                 [&#x27;MUNICIPALITY_NM&#x27;, &#x27;PRICE_PLAN&#x27;])])</pre></div></div></div><div class=\"sk-parallel\"><div class=\"sk-parallel-item\"><div class=\"sk-item\"><div class=\"sk-label-container\"><div class=\"sk-label sk-toggleable\"><input class=\"sk-toggleable__control sk-hidden--visually\" id=\"sk-estimator-id-18\" type=\"checkbox\" ><label for=\"sk-estimator-id-18\" class=\"sk-toggleable__label sk-toggleable__label-arrow\">oh</label><div class=\"sk-toggleable__content\"><pre>[&#x27;BRAND&#x27;, &#x27;DEVICE_MANUFACTURER_TXT&#x27;, &#x27;PROVINCE_STATE_CD&#x27;, &#x27;SEGMENT_NM&#x27;, &#x27;LOCALITY_NM&#x27;, &#x27;LIFESTAGE&#x27;]</pre></div></div></div><div class=\"sk-serial\"><div class=\"sk-item\"><div class=\"sk-estimator sk-toggleable\"><input class=\"sk-toggleable__control sk-hidden--visually\" id=\"sk-estimator-id-19\" type=\"checkbox\" ><label for=\"sk-estimator-id-19\" class=\"sk-toggleable__label sk-toggleable__label-arrow\">OneHotEncoder</label><div class=\"sk-toggleable__content\"><pre>OneHotEncoder(handle_unknown=&#x27;ignore&#x27;, sparse=False)</pre></div></div></div></div></div></div><div class=\"sk-parallel-item\"><div class=\"sk-item\"><div class=\"sk-label-container\"><div class=\"sk-label sk-toggleable\"><input class=\"sk-toggleable__control sk-hidden--visually\" id=\"sk-estimator-id-20\" type=\"checkbox\" ><label for=\"sk-estimator-id-20\" class=\"sk-toggleable__label sk-toggleable__label-arrow\">sc</label><div class=\"sk-toggleable__content\"><pre>Index([&#x27;IMSI_hashed&#x27;, &#x27;TENURE_DAY_QTY_SCALED&#x27;, &#x27;PROD_TV&#x27;,\n",
       "       &#x27;THREE_MONTH_AVG_WLN_BILLING_SCALED&#x27;,\n",
       "       &#x27;THREE_MONTH_AVG_WLS_BILLING_SCALED&#x27;],\n",
       "      dtype=&#x27;object&#x27;)</pre></div></div></div><div class=\"sk-serial\"><div class=\"sk-item\"><div class=\"sk-estimator sk-toggleable\"><input class=\"sk-toggleable__control sk-hidden--visually\" id=\"sk-estimator-id-21\" type=\"checkbox\" ><label for=\"sk-estimator-id-21\" class=\"sk-toggleable__label sk-toggleable__label-arrow\">StandardScaler</label><div class=\"sk-toggleable__content\"><pre>StandardScaler()</pre></div></div></div></div></div></div><div class=\"sk-parallel-item\"><div class=\"sk-item\"><div class=\"sk-label-container\"><div class=\"sk-label sk-toggleable\"><input class=\"sk-toggleable__control sk-hidden--visually\" id=\"sk-estimator-id-22\" type=\"checkbox\" ><label for=\"sk-estimator-id-22\" class=\"sk-toggleable__label sk-toggleable__label-arrow\">FreqEn</label><div class=\"sk-toggleable__content\"><pre>[&#x27;MUNICIPALITY_NM&#x27;, &#x27;PRICE_PLAN&#x27;]</pre></div></div></div><div class=\"sk-serial\"><div class=\"sk-item\"><div class=\"sk-estimator sk-toggleable\"><input class=\"sk-toggleable__control sk-hidden--visually\" id=\"sk-estimator-id-23\" type=\"checkbox\" ><label for=\"sk-estimator-id-23\" class=\"sk-toggleable__label sk-toggleable__label-arrow\">CountEncoder</label><div class=\"sk-toggleable__content\"><pre>CountEncoder(combine_min_nan_groups=True, normalize=True)</pre></div></div></div></div></div></div></div></div></div></div>"
      ],
      "text/plain": [
       "ColumnTransformer(transformers=[('oh',\n",
       "                                 OneHotEncoder(handle_unknown='ignore',\n",
       "                                               sparse=False),\n",
       "                                 ['BRAND', 'DEVICE_MANUFACTURER_TXT',\n",
       "                                  'PROVINCE_STATE_CD', 'SEGMENT_NM',\n",
       "                                  'LOCALITY_NM', 'LIFESTAGE']),\n",
       "                                ('sc', StandardScaler(),\n",
       "                                 Index(['IMSI_hashed', 'TENURE_DAY_QTY_SCALED', 'PROD_TV',\n",
       "       'THREE_MONTH_AVG_WLN_BILLING_SCALED',\n",
       "       'THREE_MONTH_AVG_WLS_BILLING_SCALED'],\n",
       "      dtype='object')),\n",
       "                                ('FreqEn',\n",
       "                                 CountEncoder(combine_min_nan_groups=True,\n",
       "                                              normalize=True),\n",
       "                                 ['MUNICIPALITY_NM', 'PRICE_PLAN'])])"
      ]
     },
     "execution_count": 96,
     "metadata": {},
     "output_type": "execute_result"
    }
   ],
   "source": [
    "preprocessor"
   ]
  },
  {
   "cell_type": "code",
   "execution_count": 97,
   "metadata": {},
   "outputs": [
    {
     "data": {
      "text/html": [
       "<div>\n",
       "<style scoped>\n",
       "    .dataframe tbody tr th:only-of-type {\n",
       "        vertical-align: middle;\n",
       "    }\n",
       "\n",
       "    .dataframe tbody tr th {\n",
       "        vertical-align: top;\n",
       "    }\n",
       "\n",
       "    .dataframe thead th {\n",
       "        text-align: right;\n",
       "    }\n",
       "</style>\n",
       "<table border=\"1\" class=\"dataframe\">\n",
       "  <thead>\n",
       "    <tr style=\"text-align: right;\">\n",
       "      <th></th>\n",
       "      <th>oh__BRAND_K</th>\n",
       "      <th>oh__BRAND_T</th>\n",
       "      <th>oh__DEVICE_MANUFACTURER_TXT_BrandX</th>\n",
       "      <th>oh__DEVICE_MANUFACTURER_TXT_alcatel</th>\n",
       "      <th>oh__DEVICE_MANUFACTURER_TXT_alcatel / tcl</th>\n",
       "      <th>oh__DEVICE_MANUFACTURER_TXT_apple</th>\n",
       "      <th>oh__DEVICE_MANUFACTURER_TXT_asus</th>\n",
       "      <th>oh__DEVICE_MANUFACTURER_TXT_blackberry</th>\n",
       "      <th>oh__DEVICE_MANUFACTURER_TXT_blu</th>\n",
       "      <th>oh__DEVICE_MANUFACTURER_TXT_cat</th>\n",
       "      <th>...</th>\n",
       "      <th>oh__LIFESTAGE_Very Young Singles &amp; Couples</th>\n",
       "      <th>oh__LIFESTAGE_Young Families</th>\n",
       "      <th>oh__LIFESTAGE_Younger Singles &amp; Couples</th>\n",
       "      <th>sc__IMSI_hashed</th>\n",
       "      <th>sc__TENURE_DAY_QTY_SCALED</th>\n",
       "      <th>sc__PROD_TV</th>\n",
       "      <th>sc__THREE_MONTH_AVG_WLN_BILLING_SCALED</th>\n",
       "      <th>sc__THREE_MONTH_AVG_WLS_BILLING_SCALED</th>\n",
       "      <th>FreqEn__MUNICIPALITY_NM</th>\n",
       "      <th>FreqEn__PRICE_PLAN</th>\n",
       "    </tr>\n",
       "  </thead>\n",
       "  <tbody>\n",
       "    <tr>\n",
       "      <th>0</th>\n",
       "      <td>0.0</td>\n",
       "      <td>1.0</td>\n",
       "      <td>0.0</td>\n",
       "      <td>0.0</td>\n",
       "      <td>0.0</td>\n",
       "      <td>1.0</td>\n",
       "      <td>0.0</td>\n",
       "      <td>0.0</td>\n",
       "      <td>0.0</td>\n",
       "      <td>0.0</td>\n",
       "      <td>...</td>\n",
       "      <td>0.0</td>\n",
       "      <td>0.0</td>\n",
       "      <td>0.0</td>\n",
       "      <td>1.706472</td>\n",
       "      <td>-1.161766</td>\n",
       "      <td>0.637803</td>\n",
       "      <td>-0.180496</td>\n",
       "      <td>-0.675933</td>\n",
       "      <td>0.037560</td>\n",
       "      <td>0.082718</td>\n",
       "    </tr>\n",
       "    <tr>\n",
       "      <th>1</th>\n",
       "      <td>1.0</td>\n",
       "      <td>0.0</td>\n",
       "      <td>0.0</td>\n",
       "      <td>0.0</td>\n",
       "      <td>0.0</td>\n",
       "      <td>0.0</td>\n",
       "      <td>0.0</td>\n",
       "      <td>0.0</td>\n",
       "      <td>0.0</td>\n",
       "      <td>0.0</td>\n",
       "      <td>...</td>\n",
       "      <td>0.0</td>\n",
       "      <td>0.0</td>\n",
       "      <td>0.0</td>\n",
       "      <td>0.632581</td>\n",
       "      <td>0.124702</td>\n",
       "      <td>0.637803</td>\n",
       "      <td>0.339827</td>\n",
       "      <td>-0.012108</td>\n",
       "      <td>0.005173</td>\n",
       "      <td>0.013256</td>\n",
       "    </tr>\n",
       "    <tr>\n",
       "      <th>2</th>\n",
       "      <td>0.0</td>\n",
       "      <td>1.0</td>\n",
       "      <td>0.0</td>\n",
       "      <td>0.0</td>\n",
       "      <td>0.0</td>\n",
       "      <td>1.0</td>\n",
       "      <td>0.0</td>\n",
       "      <td>0.0</td>\n",
       "      <td>0.0</td>\n",
       "      <td>0.0</td>\n",
       "      <td>...</td>\n",
       "      <td>1.0</td>\n",
       "      <td>0.0</td>\n",
       "      <td>0.0</td>\n",
       "      <td>-0.769325</td>\n",
       "      <td>0.432184</td>\n",
       "      <td>0.637803</td>\n",
       "      <td>-0.218896</td>\n",
       "      <td>-0.762969</td>\n",
       "      <td>0.114889</td>\n",
       "      <td>0.177884</td>\n",
       "    </tr>\n",
       "    <tr>\n",
       "      <th>3</th>\n",
       "      <td>0.0</td>\n",
       "      <td>1.0</td>\n",
       "      <td>0.0</td>\n",
       "      <td>0.0</td>\n",
       "      <td>0.0</td>\n",
       "      <td>0.0</td>\n",
       "      <td>0.0</td>\n",
       "      <td>0.0</td>\n",
       "      <td>0.0</td>\n",
       "      <td>0.0</td>\n",
       "      <td>...</td>\n",
       "      <td>1.0</td>\n",
       "      <td>0.0</td>\n",
       "      <td>0.0</td>\n",
       "      <td>1.697031</td>\n",
       "      <td>-0.580804</td>\n",
       "      <td>0.637803</td>\n",
       "      <td>-0.026970</td>\n",
       "      <td>-0.698222</td>\n",
       "      <td>0.042895</td>\n",
       "      <td>0.000216</td>\n",
       "    </tr>\n",
       "    <tr>\n",
       "      <th>4</th>\n",
       "      <td>0.0</td>\n",
       "      <td>1.0</td>\n",
       "      <td>0.0</td>\n",
       "      <td>0.0</td>\n",
       "      <td>0.0</td>\n",
       "      <td>0.0</td>\n",
       "      <td>0.0</td>\n",
       "      <td>0.0</td>\n",
       "      <td>0.0</td>\n",
       "      <td>0.0</td>\n",
       "      <td>...</td>\n",
       "      <td>1.0</td>\n",
       "      <td>0.0</td>\n",
       "      <td>0.0</td>\n",
       "      <td>-0.701787</td>\n",
       "      <td>-0.797372</td>\n",
       "      <td>-1.567883</td>\n",
       "      <td>-0.376482</td>\n",
       "      <td>-0.219124</td>\n",
       "      <td>0.042895</td>\n",
       "      <td>0.019561</td>\n",
       "    </tr>\n",
       "  </tbody>\n",
       "</table>\n",
       "<p>5 rows × 147 columns</p>\n",
       "</div>"
      ],
      "text/plain": [
       "   oh__BRAND_K  oh__BRAND_T  oh__DEVICE_MANUFACTURER_TXT_BrandX  \\\n",
       "0          0.0          1.0                                 0.0   \n",
       "1          1.0          0.0                                 0.0   \n",
       "2          0.0          1.0                                 0.0   \n",
       "3          0.0          1.0                                 0.0   \n",
       "4          0.0          1.0                                 0.0   \n",
       "\n",
       "   oh__DEVICE_MANUFACTURER_TXT_alcatel  \\\n",
       "0                                  0.0   \n",
       "1                                  0.0   \n",
       "2                                  0.0   \n",
       "3                                  0.0   \n",
       "4                                  0.0   \n",
       "\n",
       "   oh__DEVICE_MANUFACTURER_TXT_alcatel / tcl  \\\n",
       "0                                        0.0   \n",
       "1                                        0.0   \n",
       "2                                        0.0   \n",
       "3                                        0.0   \n",
       "4                                        0.0   \n",
       "\n",
       "   oh__DEVICE_MANUFACTURER_TXT_apple  oh__DEVICE_MANUFACTURER_TXT_asus  \\\n",
       "0                                1.0                               0.0   \n",
       "1                                0.0                               0.0   \n",
       "2                                1.0                               0.0   \n",
       "3                                0.0                               0.0   \n",
       "4                                0.0                               0.0   \n",
       "\n",
       "   oh__DEVICE_MANUFACTURER_TXT_blackberry  oh__DEVICE_MANUFACTURER_TXT_blu  \\\n",
       "0                                     0.0                              0.0   \n",
       "1                                     0.0                              0.0   \n",
       "2                                     0.0                              0.0   \n",
       "3                                     0.0                              0.0   \n",
       "4                                     0.0                              0.0   \n",
       "\n",
       "   oh__DEVICE_MANUFACTURER_TXT_cat  ...  \\\n",
       "0                              0.0  ...   \n",
       "1                              0.0  ...   \n",
       "2                              0.0  ...   \n",
       "3                              0.0  ...   \n",
       "4                              0.0  ...   \n",
       "\n",
       "   oh__LIFESTAGE_Very Young Singles & Couples  oh__LIFESTAGE_Young Families  \\\n",
       "0                                         0.0                           0.0   \n",
       "1                                         0.0                           0.0   \n",
       "2                                         1.0                           0.0   \n",
       "3                                         1.0                           0.0   \n",
       "4                                         1.0                           0.0   \n",
       "\n",
       "   oh__LIFESTAGE_Younger Singles & Couples  sc__IMSI_hashed  \\\n",
       "0                                      0.0         1.706472   \n",
       "1                                      0.0         0.632581   \n",
       "2                                      0.0        -0.769325   \n",
       "3                                      0.0         1.697031   \n",
       "4                                      0.0        -0.701787   \n",
       "\n",
       "   sc__TENURE_DAY_QTY_SCALED  sc__PROD_TV  \\\n",
       "0                  -1.161766     0.637803   \n",
       "1                   0.124702     0.637803   \n",
       "2                   0.432184     0.637803   \n",
       "3                  -0.580804     0.637803   \n",
       "4                  -0.797372    -1.567883   \n",
       "\n",
       "   sc__THREE_MONTH_AVG_WLN_BILLING_SCALED  \\\n",
       "0                               -0.180496   \n",
       "1                                0.339827   \n",
       "2                               -0.218896   \n",
       "3                               -0.026970   \n",
       "4                               -0.376482   \n",
       "\n",
       "   sc__THREE_MONTH_AVG_WLS_BILLING_SCALED  FreqEn__MUNICIPALITY_NM  \\\n",
       "0                               -0.675933                 0.037560   \n",
       "1                               -0.012108                 0.005173   \n",
       "2                               -0.762969                 0.114889   \n",
       "3                               -0.698222                 0.042895   \n",
       "4                               -0.219124                 0.042895   \n",
       "\n",
       "   FreqEn__PRICE_PLAN  \n",
       "0            0.082718  \n",
       "1            0.013256  \n",
       "2            0.177884  \n",
       "3            0.000216  \n",
       "4            0.019561  \n",
       "\n",
       "[5 rows x 147 columns]"
      ]
     },
     "execution_count": 97,
     "metadata": {},
     "output_type": "execute_result"
    }
   ],
   "source": [
    "X_new_df = pd.DataFrame(X_new, columns=preprocessor.get_feature_names_out()).head()\n",
    "X_new_df"
   ]
  },
  {
   "cell_type": "code",
   "execution_count": 98,
   "metadata": {},
   "outputs": [],
   "source": [
    "import pickle\n",
    "pickle.dump(preprocessor, open('preprocessor.pkl','wb')) #save model object"
   ]
  },
  {
   "cell_type": "code",
   "execution_count": 99,
   "metadata": {},
   "outputs": [
    {
     "data": {
      "text/plain": [
       "((14845, 147), (3712, 147))"
      ]
     },
     "execution_count": 99,
     "metadata": {},
     "output_type": "execute_result"
    }
   ],
   "source": [
    "# separate dataset into train and test\n",
    "from sklearn.model_selection import train_test_split, GridSearchCV\n",
    "X_train, X_test, y_train, y_test = train_test_split(X_new,y,test_size=0.2,random_state=42)\n",
    "X_train.shape, X_test.shape"
   ]
  },
  {
   "cell_type": "markdown",
   "metadata": {},
   "source": [
    "## Model Competition"
   ]
  },
  {
   "cell_type": "code",
   "execution_count": 100,
   "metadata": {},
   "outputs": [],
   "source": [
    "from sklearn.metrics import recall_score, f1_score, precision_score, accuracy_score\n",
    "def evaluate_model(true, predicted):\n",
    "    recall = recall_score(true, predicted)\n",
    "    f1 = f1_score(true, predicted)\n",
    "    precision = precision_score(true, predicted)\n",
    "    accuracy = accuracy_score(true, predicted)\n",
    "    return recall, f1, precision, accuracy"
   ]
  },
  {
   "cell_type": "code",
   "execution_count": 101,
   "metadata": {},
   "outputs": [
    {
     "name": "stdout",
     "output_type": "stream",
     "text": [
      "Logistic Regression\n",
      "Model performance for Training set\n",
      "- recall: 0.6076\n",
      "- f1: 0.7301\n",
      "- precision: 0.9146\n",
      "- accuracy: 0.7248\n",
      "----------------------------------\n",
      "Model performance for Training set\n",
      "- recall: 0.6223\n",
      "- f1: 0.7377\n",
      "- precision: 0.9056\n",
      "- accuracy: 0.7260\n",
      "===================================\n",
      "\n",
      "\n",
      "SVM\n",
      "Model performance for Training set\n",
      "- recall: 0.7584\n",
      "- f1: 0.8024\n",
      "- precision: 0.8518\n",
      "- accuracy: 0.7711\n",
      "----------------------------------\n",
      "Model performance for Training set\n",
      "- recall: 0.7415\n",
      "- f1: 0.7869\n",
      "- precision: 0.8382\n",
      "- accuracy: 0.7513\n",
      "===================================\n",
      "\n",
      "\n",
      "Random Forest\n",
      "Model performance for Training set\n",
      "- recall: 1.0000\n",
      "- f1: 1.0000\n",
      "- precision: 1.0000\n",
      "- accuracy: 1.0000\n",
      "----------------------------------\n",
      "Model performance for Training set\n",
      "- recall: 0.7694\n",
      "- f1: 0.7797\n",
      "- precision: 0.7903\n",
      "- accuracy: 0.7309\n",
      "===================================\n",
      "\n",
      "\n",
      "DTC\n",
      "Model performance for Training set\n",
      "- recall: 1.0000\n",
      "- f1: 1.0000\n",
      "- precision: 1.0000\n",
      "- accuracy: 1.0000\n",
      "----------------------------------\n",
      "Model performance for Training set\n",
      "- recall: 0.7707\n",
      "- f1: 0.7546\n",
      "- precision: 0.7391\n",
      "- accuracy: 0.6897\n",
      "===================================\n",
      "\n",
      "\n",
      "XGB\n",
      "Model performance for Training set\n",
      "- recall: 0.8944\n",
      "- f1: 0.9137\n",
      "- precision: 0.9340\n",
      "- accuracy: 0.8965\n",
      "----------------------------------\n",
      "Model performance for Training set\n",
      "- recall: 0.7615\n",
      "- f1: 0.7821\n",
      "- precision: 0.8039\n",
      "- accuracy: 0.7373\n",
      "===================================\n",
      "\n",
      "\n"
     ]
    }
   ],
   "source": [
    "models = {\n",
    "    'Logistic Regression':LogisticRegression(solver='lbfgs',\n",
    "                                                   class_weight='balanced',random_state=100),\n",
    "    'SVM': SVC(random_state=100),\n",
    "    'Random Forest':RandomForestClassifier(random_state=100),\n",
    "    'DTC':DecisionTreeClassifier(random_state=100),\n",
    "    'XGB':XGBClassifier(random_state=100)\n",
    "}\n",
    "model_list = []\n",
    "recall =[]\n",
    "f1 =[]\n",
    "precision =[]\n",
    "accuracy =[]\n",
    "\n",
    "for i in range(len(list(models))):\n",
    "    model = list(models.values())[i]\n",
    "    model.fit(X_train, y_train) # Train model\n",
    "\n",
    "    # Make predictions\n",
    "    y_train_pred = model.predict(X_train)\n",
    "    y_test_pred = model.predict(X_test)\n",
    "    \n",
    "    # Evaluate Train and Test dataset\n",
    "    model_train_recall , model_train_f1, model_train_precision, model_train_accuracy = evaluate_model(y_train, y_train_pred)\n",
    "    model_test_recall , model_test_f1, model_test_precision, model_test_accuracy = evaluate_model(y_test, y_test_pred)\n",
    "\n",
    "    \n",
    "    print(list(models.keys())[i])\n",
    "    model_list.append(list(models.keys())[i])\n",
    "\n",
    "    print('Model performance for Training set')\n",
    "    print(\"- recall: {:.4f}\".format(model_train_recall))\n",
    "    print(\"- f1: {:.4f}\".format(model_train_f1))\n",
    "    print(\"- precision: {:.4f}\".format(model_train_precision))\n",
    "    print(\"- accuracy: {:.4f}\".format(model_train_accuracy))\n",
    "\n",
    "    print('----------------------------------')\n",
    "    \n",
    "    print('Model performance for Training set')\n",
    "    print(\"- recall: {:.4f}\".format(model_test_recall))\n",
    "    print(\"- f1: {:.4f}\".format(model_test_f1))\n",
    "    print(\"- precision: {:.4f}\".format(model_test_precision))\n",
    "    print(\"- accuracy: {:.4f}\".format(model_test_accuracy))\n",
    "    recall.append(model_test_recall)\n",
    "    f1.append(model_test_f1)\n",
    "    precision.append(model_test_precision)\n",
    "    accuracy.append(model_test_accuracy)\n",
    "\n",
    "    print('='*35)\n",
    "    print('\\n')"
   ]
  },
  {
   "cell_type": "markdown",
   "metadata": {},
   "source": [
    "## Final Model Selection"
   ]
  },
  {
   "cell_type": "code",
   "execution_count": 102,
   "metadata": {},
   "outputs": [
    {
     "data": {
      "text/html": [
       "<div>\n",
       "<style scoped>\n",
       "    .dataframe tbody tr th:only-of-type {\n",
       "        vertical-align: middle;\n",
       "    }\n",
       "\n",
       "    .dataframe tbody tr th {\n",
       "        vertical-align: top;\n",
       "    }\n",
       "\n",
       "    .dataframe thead th {\n",
       "        text-align: right;\n",
       "    }\n",
       "</style>\n",
       "<table border=\"1\" class=\"dataframe\">\n",
       "  <thead>\n",
       "    <tr style=\"text-align: right;\">\n",
       "      <th></th>\n",
       "      <th>Model Name</th>\n",
       "      <th>recall</th>\n",
       "      <th>f1</th>\n",
       "      <th>precision</th>\n",
       "      <th>accuracy</th>\n",
       "    </tr>\n",
       "  </thead>\n",
       "  <tbody>\n",
       "    <tr>\n",
       "      <th>1</th>\n",
       "      <td>SVM</td>\n",
       "      <td>0.741514</td>\n",
       "      <td>0.786885</td>\n",
       "      <td>0.838170</td>\n",
       "      <td>0.751347</td>\n",
       "    </tr>\n",
       "    <tr>\n",
       "      <th>4</th>\n",
       "      <td>XGB</td>\n",
       "      <td>0.761532</td>\n",
       "      <td>0.782123</td>\n",
       "      <td>0.803859</td>\n",
       "      <td>0.737338</td>\n",
       "    </tr>\n",
       "    <tr>\n",
       "      <th>2</th>\n",
       "      <td>Random Forest</td>\n",
       "      <td>0.769365</td>\n",
       "      <td>0.779713</td>\n",
       "      <td>0.790344</td>\n",
       "      <td>0.730873</td>\n",
       "    </tr>\n",
       "    <tr>\n",
       "      <th>3</th>\n",
       "      <td>DTC</td>\n",
       "      <td>0.770670</td>\n",
       "      <td>0.754580</td>\n",
       "      <td>0.739149</td>\n",
       "      <td>0.689655</td>\n",
       "    </tr>\n",
       "    <tr>\n",
       "      <th>0</th>\n",
       "      <td>Logistic Regression</td>\n",
       "      <td>0.622280</td>\n",
       "      <td>0.737684</td>\n",
       "      <td>0.905636</td>\n",
       "      <td>0.726024</td>\n",
       "    </tr>\n",
       "  </tbody>\n",
       "</table>\n",
       "</div>"
      ],
      "text/plain": [
       "            Model Name    recall        f1  precision  accuracy\n",
       "1                  SVM  0.741514  0.786885   0.838170  0.751347\n",
       "4                  XGB  0.761532  0.782123   0.803859  0.737338\n",
       "2        Random Forest  0.769365  0.779713   0.790344  0.730873\n",
       "3                  DTC  0.770670  0.754580   0.739149  0.689655\n",
       "0  Logistic Regression  0.622280  0.737684   0.905636  0.726024"
      ]
     },
     "execution_count": 102,
     "metadata": {},
     "output_type": "execute_result"
    }
   ],
   "source": [
    "pd.DataFrame(list(zip(model_list, recall, f1, precision, accuracy)), columns=['Model Name', 'recall', 'f1', 'precision', 'accuracy']).sort_values(by=[\"f1\"],ascending=False)"
   ]
  },
  {
   "cell_type": "markdown",
   "metadata": {},
   "source": [
    "## Model Tuning"
   ]
  },
  {
   "cell_type": "code",
   "execution_count": 103,
   "metadata": {},
   "outputs": [
    {
     "name": "stdout",
     "output_type": "stream",
     "text": [
      "Best Parameters: {'svm__C': 1, 'svm__gamma': 0.01}\n",
      "Accuracy on the test set: 0.7491918103448276\n"
     ]
    }
   ],
   "source": [
    "from sklearn.svm import SVC\n",
    "from sklearn.pipeline import Pipeline\n",
    "from sklearn.model_selection import GridSearchCV\n",
    "\n",
    "X_train, X_test, y_train, y_test = train_test_split(X, y, test_size=0.2, random_state=42)\n",
    "\n",
    "# Create a pipeline with StandardScaler and SVM\n",
    "pipeline = Pipeline([\n",
    "    ('preprocessor', preprocessor),  # Standardize features\n",
    "    ('svm', SVC(kernel='rbf', probability=True))  # SVM classifier with RBF kernel\n",
    "])\n",
    "\n",
    "# Define hyperparameter grid for GridSearch\n",
    "param_grid = {\n",
    "    'svm__C': [0.1, 1],       # SVM regularization parameter\n",
    "    'svm__gamma': [0.01, 0.1]  # Kernel coefficient\n",
    "}\n",
    "\n",
    "# Perform GridSearch with Cross-Validation\n",
    "grid_search = GridSearchCV(pipeline, param_grid, cv=5, n_jobs=-1)\n",
    "grid_search.fit(X_train, y_train)\n",
    "\n",
    "# Get the Best Parameters and Best Estimator\n",
    "best_params = grid_search.best_params_\n",
    "best_model = grid_search.best_estimator_\n",
    "\n",
    "# Evaluate the Model on the Test Set\n",
    "accuracy = best_model.score(X_test, y_test)\n",
    "print(f'Best Parameters: {best_params}')\n",
    "print(f'Accuracy on the test set: {accuracy}')\n"
   ]
  },
  {
   "cell_type": "code",
   "execution_count": 104,
   "metadata": {},
   "outputs": [],
   "source": [
    "# Pickle the best model to a file\n",
    "with open('best_svc_model.pkl', 'wb') as model_file:\n",
    "    pickle.dump(best_model, model_file)"
   ]
  },
  {
   "cell_type": "code",
   "execution_count": 105,
   "metadata": {},
   "outputs": [
    {
     "name": "stdout",
     "output_type": "stream",
     "text": [
      "Support Vector Machine: Final Classification Performance test :\n",
      "-------------------------------------------------------\n",
      "Accuracy        :  0.7491918103448276\n",
      "F1 Score        :  0.782425800420659\n",
      "Precision       :  0.8450277637556789\n",
      "Recall          :  0.7284595300261096\n",
      "Confusion Matrix:\n",
      "  [[1107  307]\n",
      " [ 624 1674]]\n",
      "                 precision    recall  f1-score   support\n",
      "\n",
      "PROD_INTERNET=0       0.64      0.78      0.70      1414\n",
      "PROD_INTERNET=1       0.85      0.73      0.78      2298\n",
      "\n",
      "       accuracy                           0.75      3712\n",
      "      macro avg       0.74      0.76      0.74      3712\n",
      "   weighted avg       0.77      0.75      0.75      3712\n",
      "\n"
     ]
    }
   ],
   "source": [
    "svc_pred = best_model.predict(X_test)\n",
    "\n",
    "import sklearn.metrics as metrics\n",
    "from sklearn.metrics import classification_report, confusion_matrix  \n",
    "# Evaluate the Model on the Test Set\n",
    "print('Support Vector Machine: Final Classification Performance test :')\n",
    "print('-------------------------------------------------------')\n",
    "print('Accuracy        : ', metrics.accuracy_score(y_test, svc_pred))\n",
    "print('F1 Score        : ', metrics.f1_score(y_test, svc_pred))\n",
    "print('Precision       : ', metrics.precision_score(y_test, svc_pred))\n",
    "print('Recall          : ', metrics.recall_score(y_test, svc_pred))\n",
    "print('Confusion Matrix:\\n ', confusion_matrix(y_test, svc_pred))\n",
    "print(classification_report(y_test, svc_pred, target_names=['PROD_INTERNET=0', 'PROD_INTERNET=1']))"
   ]
  },
  {
   "cell_type": "code",
   "execution_count": 106,
   "metadata": {},
   "outputs": [
    {
     "data": {
      "text/html": [
       "<style>#sk-container-id-4 {color: black;background-color: white;}#sk-container-id-4 pre{padding: 0;}#sk-container-id-4 div.sk-toggleable {background-color: white;}#sk-container-id-4 label.sk-toggleable__label {cursor: pointer;display: block;width: 100%;margin-bottom: 0;padding: 0.3em;box-sizing: border-box;text-align: center;}#sk-container-id-4 label.sk-toggleable__label-arrow:before {content: \"▸\";float: left;margin-right: 0.25em;color: #696969;}#sk-container-id-4 label.sk-toggleable__label-arrow:hover:before {color: black;}#sk-container-id-4 div.sk-estimator:hover label.sk-toggleable__label-arrow:before {color: black;}#sk-container-id-4 div.sk-toggleable__content {max-height: 0;max-width: 0;overflow: hidden;text-align: left;background-color: #f0f8ff;}#sk-container-id-4 div.sk-toggleable__content pre {margin: 0.2em;color: black;border-radius: 0.25em;background-color: #f0f8ff;}#sk-container-id-4 input.sk-toggleable__control:checked~div.sk-toggleable__content {max-height: 200px;max-width: 100%;overflow: auto;}#sk-container-id-4 input.sk-toggleable__control:checked~label.sk-toggleable__label-arrow:before {content: \"▾\";}#sk-container-id-4 div.sk-estimator input.sk-toggleable__control:checked~label.sk-toggleable__label {background-color: #d4ebff;}#sk-container-id-4 div.sk-label input.sk-toggleable__control:checked~label.sk-toggleable__label {background-color: #d4ebff;}#sk-container-id-4 input.sk-hidden--visually {border: 0;clip: rect(1px 1px 1px 1px);clip: rect(1px, 1px, 1px, 1px);height: 1px;margin: -1px;overflow: hidden;padding: 0;position: absolute;width: 1px;}#sk-container-id-4 div.sk-estimator {font-family: monospace;background-color: #f0f8ff;border: 1px dotted black;border-radius: 0.25em;box-sizing: border-box;margin-bottom: 0.5em;}#sk-container-id-4 div.sk-estimator:hover {background-color: #d4ebff;}#sk-container-id-4 div.sk-parallel-item::after {content: \"\";width: 100%;border-bottom: 1px solid gray;flex-grow: 1;}#sk-container-id-4 div.sk-label:hover label.sk-toggleable__label {background-color: #d4ebff;}#sk-container-id-4 div.sk-serial::before {content: \"\";position: absolute;border-left: 1px solid gray;box-sizing: border-box;top: 0;bottom: 0;left: 50%;z-index: 0;}#sk-container-id-4 div.sk-serial {display: flex;flex-direction: column;align-items: center;background-color: white;padding-right: 0.2em;padding-left: 0.2em;position: relative;}#sk-container-id-4 div.sk-item {position: relative;z-index: 1;}#sk-container-id-4 div.sk-parallel {display: flex;align-items: stretch;justify-content: center;background-color: white;position: relative;}#sk-container-id-4 div.sk-item::before, #sk-container-id-4 div.sk-parallel-item::before {content: \"\";position: absolute;border-left: 1px solid gray;box-sizing: border-box;top: 0;bottom: 0;left: 50%;z-index: -1;}#sk-container-id-4 div.sk-parallel-item {display: flex;flex-direction: column;z-index: 1;position: relative;background-color: white;}#sk-container-id-4 div.sk-parallel-item:first-child::after {align-self: flex-end;width: 50%;}#sk-container-id-4 div.sk-parallel-item:last-child::after {align-self: flex-start;width: 50%;}#sk-container-id-4 div.sk-parallel-item:only-child::after {width: 0;}#sk-container-id-4 div.sk-dashed-wrapped {border: 1px dashed gray;margin: 0 0.4em 0.5em 0.4em;box-sizing: border-box;padding-bottom: 0.4em;background-color: white;}#sk-container-id-4 div.sk-label label {font-family: monospace;font-weight: bold;display: inline-block;line-height: 1.2em;}#sk-container-id-4 div.sk-label-container {text-align: center;}#sk-container-id-4 div.sk-container {/* jupyter's `normalize.less` sets `[hidden] { display: none; }` but bootstrap.min.css set `[hidden] { display: none !important; }` so we also need the `!important` here to be able to override the default hidden behavior on the sphinx rendered scikit-learn.org. See: https://github.com/scikit-learn/scikit-learn/issues/21755 */display: inline-block !important;position: relative;}#sk-container-id-4 div.sk-text-repr-fallback {display: none;}</style><div id=\"sk-container-id-4\" class=\"sk-top-container\"><div class=\"sk-text-repr-fallback\"><pre>Pipeline(steps=[(&#x27;preprocessor&#x27;,\n",
       "                 ColumnTransformer(transformers=[(&#x27;oh&#x27;,\n",
       "                                                  OneHotEncoder(handle_unknown=&#x27;ignore&#x27;,\n",
       "                                                                sparse=False),\n",
       "                                                  [&#x27;BRAND&#x27;,\n",
       "                                                   &#x27;DEVICE_MANUFACTURER_TXT&#x27;,\n",
       "                                                   &#x27;PROVINCE_STATE_CD&#x27;,\n",
       "                                                   &#x27;SEGMENT_NM&#x27;, &#x27;LOCALITY_NM&#x27;,\n",
       "                                                   &#x27;LIFESTAGE&#x27;]),\n",
       "                                                 (&#x27;sc&#x27;, StandardScaler(),\n",
       "                                                  Index([&#x27;IMSI_hashed&#x27;, &#x27;TENURE_DAY_QTY_SCALED&#x27;, &#x27;PROD_TV&#x27;,\n",
       "       &#x27;THREE_MONTH_AVG_WLN_BILLING_SCALED&#x27;,\n",
       "       &#x27;THREE_MONTH_AVG_WLS_BILLING_SCALED&#x27;],\n",
       "      dtype=&#x27;object&#x27;)),\n",
       "                                                 (&#x27;FreqEn&#x27;,\n",
       "                                                  CountEncoder(combine_min_nan_groups=True,\n",
       "                                                               normalize=True),\n",
       "                                                  [&#x27;MUNICIPALITY_NM&#x27;,\n",
       "                                                   &#x27;PRICE_PLAN&#x27;])])),\n",
       "                (&#x27;svm&#x27;, SVC(C=1, gamma=0.01, probability=True))])</pre><b>In a Jupyter environment, please rerun this cell to show the HTML representation or trust the notebook. <br />On GitHub, the HTML representation is unable to render, please try loading this page with nbviewer.org.</b></div><div class=\"sk-container\" hidden><div class=\"sk-item sk-dashed-wrapped\"><div class=\"sk-label-container\"><div class=\"sk-label sk-toggleable\"><input class=\"sk-toggleable__control sk-hidden--visually\" id=\"sk-estimator-id-24\" type=\"checkbox\" ><label for=\"sk-estimator-id-24\" class=\"sk-toggleable__label sk-toggleable__label-arrow\">Pipeline</label><div class=\"sk-toggleable__content\"><pre>Pipeline(steps=[(&#x27;preprocessor&#x27;,\n",
       "                 ColumnTransformer(transformers=[(&#x27;oh&#x27;,\n",
       "                                                  OneHotEncoder(handle_unknown=&#x27;ignore&#x27;,\n",
       "                                                                sparse=False),\n",
       "                                                  [&#x27;BRAND&#x27;,\n",
       "                                                   &#x27;DEVICE_MANUFACTURER_TXT&#x27;,\n",
       "                                                   &#x27;PROVINCE_STATE_CD&#x27;,\n",
       "                                                   &#x27;SEGMENT_NM&#x27;, &#x27;LOCALITY_NM&#x27;,\n",
       "                                                   &#x27;LIFESTAGE&#x27;]),\n",
       "                                                 (&#x27;sc&#x27;, StandardScaler(),\n",
       "                                                  Index([&#x27;IMSI_hashed&#x27;, &#x27;TENURE_DAY_QTY_SCALED&#x27;, &#x27;PROD_TV&#x27;,\n",
       "       &#x27;THREE_MONTH_AVG_WLN_BILLING_SCALED&#x27;,\n",
       "       &#x27;THREE_MONTH_AVG_WLS_BILLING_SCALED&#x27;],\n",
       "      dtype=&#x27;object&#x27;)),\n",
       "                                                 (&#x27;FreqEn&#x27;,\n",
       "                                                  CountEncoder(combine_min_nan_groups=True,\n",
       "                                                               normalize=True),\n",
       "                                                  [&#x27;MUNICIPALITY_NM&#x27;,\n",
       "                                                   &#x27;PRICE_PLAN&#x27;])])),\n",
       "                (&#x27;svm&#x27;, SVC(C=1, gamma=0.01, probability=True))])</pre></div></div></div><div class=\"sk-serial\"><div class=\"sk-item sk-dashed-wrapped\"><div class=\"sk-label-container\"><div class=\"sk-label sk-toggleable\"><input class=\"sk-toggleable__control sk-hidden--visually\" id=\"sk-estimator-id-25\" type=\"checkbox\" ><label for=\"sk-estimator-id-25\" class=\"sk-toggleable__label sk-toggleable__label-arrow\">preprocessor: ColumnTransformer</label><div class=\"sk-toggleable__content\"><pre>ColumnTransformer(transformers=[(&#x27;oh&#x27;,\n",
       "                                 OneHotEncoder(handle_unknown=&#x27;ignore&#x27;,\n",
       "                                               sparse=False),\n",
       "                                 [&#x27;BRAND&#x27;, &#x27;DEVICE_MANUFACTURER_TXT&#x27;,\n",
       "                                  &#x27;PROVINCE_STATE_CD&#x27;, &#x27;SEGMENT_NM&#x27;,\n",
       "                                  &#x27;LOCALITY_NM&#x27;, &#x27;LIFESTAGE&#x27;]),\n",
       "                                (&#x27;sc&#x27;, StandardScaler(),\n",
       "                                 Index([&#x27;IMSI_hashed&#x27;, &#x27;TENURE_DAY_QTY_SCALED&#x27;, &#x27;PROD_TV&#x27;,\n",
       "       &#x27;THREE_MONTH_AVG_WLN_BILLING_SCALED&#x27;,\n",
       "       &#x27;THREE_MONTH_AVG_WLS_BILLING_SCALED&#x27;],\n",
       "      dtype=&#x27;object&#x27;)),\n",
       "                                (&#x27;FreqEn&#x27;,\n",
       "                                 CountEncoder(combine_min_nan_groups=True,\n",
       "                                              normalize=True),\n",
       "                                 [&#x27;MUNICIPALITY_NM&#x27;, &#x27;PRICE_PLAN&#x27;])])</pre></div></div></div><div class=\"sk-parallel\"><div class=\"sk-parallel-item\"><div class=\"sk-item\"><div class=\"sk-label-container\"><div class=\"sk-label sk-toggleable\"><input class=\"sk-toggleable__control sk-hidden--visually\" id=\"sk-estimator-id-26\" type=\"checkbox\" ><label for=\"sk-estimator-id-26\" class=\"sk-toggleable__label sk-toggleable__label-arrow\">oh</label><div class=\"sk-toggleable__content\"><pre>[&#x27;BRAND&#x27;, &#x27;DEVICE_MANUFACTURER_TXT&#x27;, &#x27;PROVINCE_STATE_CD&#x27;, &#x27;SEGMENT_NM&#x27;, &#x27;LOCALITY_NM&#x27;, &#x27;LIFESTAGE&#x27;]</pre></div></div></div><div class=\"sk-serial\"><div class=\"sk-item\"><div class=\"sk-estimator sk-toggleable\"><input class=\"sk-toggleable__control sk-hidden--visually\" id=\"sk-estimator-id-27\" type=\"checkbox\" ><label for=\"sk-estimator-id-27\" class=\"sk-toggleable__label sk-toggleable__label-arrow\">OneHotEncoder</label><div class=\"sk-toggleable__content\"><pre>OneHotEncoder(handle_unknown=&#x27;ignore&#x27;, sparse=False)</pre></div></div></div></div></div></div><div class=\"sk-parallel-item\"><div class=\"sk-item\"><div class=\"sk-label-container\"><div class=\"sk-label sk-toggleable\"><input class=\"sk-toggleable__control sk-hidden--visually\" id=\"sk-estimator-id-28\" type=\"checkbox\" ><label for=\"sk-estimator-id-28\" class=\"sk-toggleable__label sk-toggleable__label-arrow\">sc</label><div class=\"sk-toggleable__content\"><pre>Index([&#x27;IMSI_hashed&#x27;, &#x27;TENURE_DAY_QTY_SCALED&#x27;, &#x27;PROD_TV&#x27;,\n",
       "       &#x27;THREE_MONTH_AVG_WLN_BILLING_SCALED&#x27;,\n",
       "       &#x27;THREE_MONTH_AVG_WLS_BILLING_SCALED&#x27;],\n",
       "      dtype=&#x27;object&#x27;)</pre></div></div></div><div class=\"sk-serial\"><div class=\"sk-item\"><div class=\"sk-estimator sk-toggleable\"><input class=\"sk-toggleable__control sk-hidden--visually\" id=\"sk-estimator-id-29\" type=\"checkbox\" ><label for=\"sk-estimator-id-29\" class=\"sk-toggleable__label sk-toggleable__label-arrow\">StandardScaler</label><div class=\"sk-toggleable__content\"><pre>StandardScaler()</pre></div></div></div></div></div></div><div class=\"sk-parallel-item\"><div class=\"sk-item\"><div class=\"sk-label-container\"><div class=\"sk-label sk-toggleable\"><input class=\"sk-toggleable__control sk-hidden--visually\" id=\"sk-estimator-id-30\" type=\"checkbox\" ><label for=\"sk-estimator-id-30\" class=\"sk-toggleable__label sk-toggleable__label-arrow\">FreqEn</label><div class=\"sk-toggleable__content\"><pre>[&#x27;MUNICIPALITY_NM&#x27;, &#x27;PRICE_PLAN&#x27;]</pre></div></div></div><div class=\"sk-serial\"><div class=\"sk-item\"><div class=\"sk-estimator sk-toggleable\"><input class=\"sk-toggleable__control sk-hidden--visually\" id=\"sk-estimator-id-31\" type=\"checkbox\" ><label for=\"sk-estimator-id-31\" class=\"sk-toggleable__label sk-toggleable__label-arrow\">CountEncoder</label><div class=\"sk-toggleable__content\"><pre>CountEncoder(combine_min_nan_groups=True, normalize=True)</pre></div></div></div></div></div></div></div></div><div class=\"sk-item\"><div class=\"sk-estimator sk-toggleable\"><input class=\"sk-toggleable__control sk-hidden--visually\" id=\"sk-estimator-id-32\" type=\"checkbox\" ><label for=\"sk-estimator-id-32\" class=\"sk-toggleable__label sk-toggleable__label-arrow\">SVC</label><div class=\"sk-toggleable__content\"><pre>SVC(C=1, gamma=0.01, probability=True)</pre></div></div></div></div></div></div></div>"
      ],
      "text/plain": [
       "Pipeline(steps=[('preprocessor',\n",
       "                 ColumnTransformer(transformers=[('oh',\n",
       "                                                  OneHotEncoder(handle_unknown='ignore',\n",
       "                                                                sparse=False),\n",
       "                                                  ['BRAND',\n",
       "                                                   'DEVICE_MANUFACTURER_TXT',\n",
       "                                                   'PROVINCE_STATE_CD',\n",
       "                                                   'SEGMENT_NM', 'LOCALITY_NM',\n",
       "                                                   'LIFESTAGE']),\n",
       "                                                 ('sc', StandardScaler(),\n",
       "                                                  Index(['IMSI_hashed', 'TENURE_DAY_QTY_SCALED', 'PROD_TV',\n",
       "       'THREE_MONTH_AVG_WLN_BILLING_SCALED',\n",
       "       'THREE_MONTH_AVG_WLS_BILLING_SCALED'],\n",
       "      dtype='object')),\n",
       "                                                 ('FreqEn',\n",
       "                                                  CountEncoder(combine_min_nan_groups=True,\n",
       "                                                               normalize=True),\n",
       "                                                  ['MUNICIPALITY_NM',\n",
       "                                                   'PRICE_PLAN'])])),\n",
       "                ('svm', SVC(C=1, gamma=0.01, probability=True))])"
      ]
     },
     "execution_count": 106,
     "metadata": {},
     "output_type": "execute_result"
    }
   ],
   "source": [
    "best_model"
   ]
  },
  {
   "cell_type": "code",
   "execution_count": 107,
   "metadata": {},
   "outputs": [],
   "source": [
    "pickled_model=pickle.load(open('best_svc_model.pkl','rb'))"
   ]
  },
  {
   "cell_type": "markdown",
   "metadata": {},
   "source": [
    "#### Prediction Check"
   ]
  },
  {
   "cell_type": "code",
   "execution_count": 108,
   "metadata": {},
   "outputs": [
    {
     "data": {
      "text/html": [
       "<div>\n",
       "<style scoped>\n",
       "    .dataframe tbody tr th:only-of-type {\n",
       "        vertical-align: middle;\n",
       "    }\n",
       "\n",
       "    .dataframe tbody tr th {\n",
       "        vertical-align: top;\n",
       "    }\n",
       "\n",
       "    .dataframe thead th {\n",
       "        text-align: right;\n",
       "    }\n",
       "</style>\n",
       "<table border=\"1\" class=\"dataframe\">\n",
       "  <thead>\n",
       "    <tr style=\"text-align: right;\">\n",
       "      <th></th>\n",
       "      <th>IMSI_hashed</th>\n",
       "      <th>BRAND</th>\n",
       "      <th>DEVICE_MANUFACTURER_TXT</th>\n",
       "      <th>MUNICIPALITY_NM</th>\n",
       "      <th>PROVINCE_STATE_CD</th>\n",
       "      <th>TENURE_DAY_QTY_SCALED</th>\n",
       "      <th>PRICE_PLAN</th>\n",
       "      <th>PROD_TV</th>\n",
       "      <th>SEGMENT_NM</th>\n",
       "      <th>LOCALITY_NM</th>\n",
       "      <th>LIFESTAGE</th>\n",
       "      <th>THREE_MONTH_AVG_WLN_BILLING_SCALED</th>\n",
       "      <th>THREE_MONTH_AVG_WLS_BILLING_SCALED</th>\n",
       "    </tr>\n",
       "  </thead>\n",
       "  <tbody>\n",
       "    <tr>\n",
       "      <th>3259</th>\n",
       "      <td>906660106760157</td>\n",
       "      <td>T</td>\n",
       "      <td>zte</td>\n",
       "      <td>COUNTY OF GP NO.1</td>\n",
       "      <td>AB</td>\n",
       "      <td>0.053714</td>\n",
       "      <td>Wireless Internet 500 - GF</td>\n",
       "      <td>0</td>\n",
       "      <td>Turbo Burbs</td>\n",
       "      <td>Suburban Elite</td>\n",
       "      <td>Middle-Age Families</td>\n",
       "      <td>0.019</td>\n",
       "      <td>0.091328</td>\n",
       "    </tr>\n",
       "  </tbody>\n",
       "</table>\n",
       "</div>"
      ],
      "text/plain": [
       "          IMSI_hashed BRAND DEVICE_MANUFACTURER_TXT    MUNICIPALITY_NM  \\\n",
       "3259  906660106760157     T                     zte  COUNTY OF GP NO.1   \n",
       "\n",
       "     PROVINCE_STATE_CD  TENURE_DAY_QTY_SCALED                  PRICE_PLAN  \\\n",
       "3259                AB               0.053714  Wireless Internet 500 - GF   \n",
       "\n",
       "      PROD_TV   SEGMENT_NM     LOCALITY_NM            LIFESTAGE  \\\n",
       "3259        0  Turbo Burbs  Suburban Elite  Middle-Age Families   \n",
       "\n",
       "      THREE_MONTH_AVG_WLN_BILLING_SCALED  THREE_MONTH_AVG_WLS_BILLING_SCALED  \n",
       "3259                               0.019                            0.091328  "
      ]
     },
     "execution_count": 108,
     "metadata": {},
     "output_type": "execute_result"
    }
   ],
   "source": [
    "test = data.drop(columns=['PROD_INTERNET','BAN_hashed'],axis=1).iloc[[3000]]\n",
    "test"
   ]
  },
  {
   "cell_type": "code",
   "execution_count": 109,
   "metadata": {},
   "outputs": [
    {
     "data": {
      "text/plain": [
       "array([1], dtype=int64)"
      ]
     },
     "execution_count": 109,
     "metadata": {},
     "output_type": "execute_result"
    }
   ],
   "source": [
    "pickled_model.predict(test)"
   ]
  },
  {
   "cell_type": "markdown",
   "metadata": {},
   "source": [
    "## Feature Importance Extraction"
   ]
  },
  {
   "cell_type": "code",
   "execution_count": 110,
   "metadata": {},
   "outputs": [
    {
     "data": {
      "image/png": "[encoded data removed]",
      "text/plain": [
       "<Figure size 1000x600 with 1 Axes>"
      ]
     },
     "metadata": {},
     "output_type": "display_data"
    }
   ],
   "source": [
    "# Create and fit an SVM classifier with a linear kernel\n",
    "clf = SVC(kernel='linear')\n",
    "clf.fit(X_new, y)\n",
    "\n",
    "# Get the coefficients (weights) of the SVM model\n",
    "coefficients = clf.coef_[0]\n",
    "\n",
    "# Get the indices of the top 10 features with the highest absolute coefficients\n",
    "top_feature_indices = np.argsort(np.abs(coefficients))[-10:]\n",
    "\n",
    "# Get the corresponding feature names\n",
    "feature_names = X_new_df.columns\n",
    "\n",
    "# Get the top 10 feature coefficients and names\n",
    "top_coefficients = coefficients[top_feature_indices]\n",
    "top_feature_names = [feature_names[i] for i in top_feature_indices]\n",
    "\n",
    "# Create a bar plot to visualize the top 10 feature importances\n",
    "plt.figure(figsize=(10, 6))\n",
    "plt.barh(range(len(top_coefficients)), top_coefficients, align='center',color='grey')\n",
    "plt.yticks(range(len(top_coefficients)), top_feature_names)\n",
    "plt.xlabel('Coefficient Value')\n",
    "plt.title('Top 10 Feature Importances (SVM - Linear Kernel)')\n",
    "plt.show()"
   ]
  },
  {
   "cell_type": "code",
   "execution_count": 111,
   "metadata": {},
   "outputs": [
    {
     "data": {
      "text/plain": [
       "Text(0.5, 0, 'Absolute Coefficient Value')"
      ]
     },
     "execution_count": 111,
     "metadata": {},
     "output_type": "execute_result"
    },
    {
     "data": {
      "image/png": "[encoded data removed]",
      "text/plain": [
       "<Figure size 640x480 with 1 Axes>"
      ]
     },
     "metadata": {},
     "output_type": "display_data"
    }
   ],
   "source": [
    "pd.Series(abs(clf.coef_[0]), index=feature_names).nlargest(10).plot(kind='barh',color='grey')\n",
    "plt.xlabel('Absolute Coefficient Value')"
   ]
  },
  {
   "cell_type": "code",
   "execution_count": 112,
   "metadata": {},
   "outputs": [],
   "source": [
    "score = best_model.predict_proba(X_test)"
   ]
  },
  {
   "cell_type": "code",
   "execution_count": 113,
   "metadata": {},
   "outputs": [
    {
     "data": {
      "text/html": [
       "<div>\n",
       "<style scoped>\n",
       "    .dataframe tbody tr th:only-of-type {\n",
       "        vertical-align: middle;\n",
       "    }\n",
       "\n",
       "    .dataframe tbody tr th {\n",
       "        vertical-align: top;\n",
       "    }\n",
       "\n",
       "    .dataframe thead th {\n",
       "        text-align: right;\n",
       "    }\n",
       "</style>\n",
       "<table border=\"1\" class=\"dataframe\">\n",
       "  <thead>\n",
       "    <tr style=\"text-align: right;\">\n",
       "      <th></th>\n",
       "      <th>IMSI_hashed</th>\n",
       "      <th>BRAND</th>\n",
       "      <th>DEVICE_MANUFACTURER_TXT</th>\n",
       "      <th>MUNICIPALITY_NM</th>\n",
       "      <th>PROVINCE_STATE_CD</th>\n",
       "      <th>TENURE_DAY_QTY_SCALED</th>\n",
       "      <th>PRICE_PLAN</th>\n",
       "      <th>PROD_TV</th>\n",
       "      <th>SEGMENT_NM</th>\n",
       "      <th>LOCALITY_NM</th>\n",
       "      <th>LIFESTAGE</th>\n",
       "      <th>THREE_MONTH_AVG_WLN_BILLING_SCALED</th>\n",
       "      <th>THREE_MONTH_AVG_WLS_BILLING_SCALED</th>\n",
       "      <th>BAN_hashed</th>\n",
       "      <th>PROD_INTERNET</th>\n",
       "      <th>Score</th>\n",
       "    </tr>\n",
       "  </thead>\n",
       "  <tbody>\n",
       "    <tr>\n",
       "      <th>4024</th>\n",
       "      <td>906660042404286</td>\n",
       "      <td>T</td>\n",
       "      <td>apple</td>\n",
       "      <td>VANCOUVER</td>\n",
       "      <td>BC</td>\n",
       "      <td>0.361143</td>\n",
       "      <td>L&amp;R ULNW 6GB shareable data</td>\n",
       "      <td>1</td>\n",
       "      <td>Unclassified</td>\n",
       "      <td>Unassigned</td>\n",
       "      <td>Unassigned</td>\n",
       "      <td>0.036612</td>\n",
       "      <td>0.064822</td>\n",
       "      <td>69593775</td>\n",
       "      <td>1</td>\n",
       "      <td>0.667636</td>\n",
       "    </tr>\n",
       "    <tr>\n",
       "      <th>5165</th>\n",
       "      <td>906661637105175</td>\n",
       "      <td>T</td>\n",
       "      <td>samsung</td>\n",
       "      <td>PEACHLAND</td>\n",
       "      <td>BC</td>\n",
       "      <td>0.520429</td>\n",
       "      <td>L&amp;R ULNW 6GB shareable data</td>\n",
       "      <td>1</td>\n",
       "      <td>Down to Earth</td>\n",
       "      <td>Lower-Middle Rural</td>\n",
       "      <td>Older Families &amp; Empty Nests</td>\n",
       "      <td>0.028046</td>\n",
       "      <td>0.035066</td>\n",
       "      <td>3920613</td>\n",
       "      <td>1</td>\n",
       "      <td>0.713431</td>\n",
       "    </tr>\n",
       "    <tr>\n",
       "      <th>5437</th>\n",
       "      <td>906660105115566</td>\n",
       "      <td>T</td>\n",
       "      <td>apple</td>\n",
       "      <td>EDMONTON</td>\n",
       "      <td>AB</td>\n",
       "      <td>0.230857</td>\n",
       "      <td>YourChoice L&amp;R Premium 70 - Unlimited nationwi...</td>\n",
       "      <td>1</td>\n",
       "      <td>Juggling Acts</td>\n",
       "      <td>Younger Urban Mix</td>\n",
       "      <td>Younger Singles &amp; Couples</td>\n",
       "      <td>0.036271</td>\n",
       "      <td>0.151685</td>\n",
       "      <td>40594509</td>\n",
       "      <td>0</td>\n",
       "      <td>0.376904</td>\n",
       "    </tr>\n",
       "    <tr>\n",
       "      <th>7470</th>\n",
       "      <td>906660125028681</td>\n",
       "      <td>T</td>\n",
       "      <td>apple</td>\n",
       "      <td>PRINCE GEORGE</td>\n",
       "      <td>BC</td>\n",
       "      <td>0.001714</td>\n",
       "      <td>Unlimited 30 - Unlimited nationwide talk, text...</td>\n",
       "      <td>1</td>\n",
       "      <td>Just Getting By</td>\n",
       "      <td>Younger Urban Mix</td>\n",
       "      <td>Younger Singles &amp; Couples</td>\n",
       "      <td>0.023693</td>\n",
       "      <td>0.158718</td>\n",
       "      <td>116353437</td>\n",
       "      <td>1</td>\n",
       "      <td>0.197703</td>\n",
       "    </tr>\n",
       "    <tr>\n",
       "      <th>5174</th>\n",
       "      <td>906660950867097</td>\n",
       "      <td>K</td>\n",
       "      <td>apple</td>\n",
       "      <td>VIKING</td>\n",
       "      <td>AB</td>\n",
       "      <td>0.056286</td>\n",
       "      <td>$50 12GB UL min Plan SFD</td>\n",
       "      <td>0</td>\n",
       "      <td>Down to Earth</td>\n",
       "      <td>Lower-Middle Rural</td>\n",
       "      <td>Older Families &amp; Empty Nests</td>\n",
       "      <td>0.018258</td>\n",
       "      <td>0.033996</td>\n",
       "      <td>108765771</td>\n",
       "      <td>1</td>\n",
       "      <td>0.954711</td>\n",
       "    </tr>\n",
       "  </tbody>\n",
       "</table>\n",
       "</div>"
      ],
      "text/plain": [
       "          IMSI_hashed BRAND DEVICE_MANUFACTURER_TXT MUNICIPALITY_NM  \\\n",
       "4024  906660042404286     T                   apple       VANCOUVER   \n",
       "5165  906661637105175     T                 samsung       PEACHLAND   \n",
       "5437  906660105115566     T                   apple        EDMONTON   \n",
       "7470  906660125028681     T                   apple   PRINCE GEORGE   \n",
       "5174  906660950867097     K                   apple          VIKING   \n",
       "\n",
       "     PROVINCE_STATE_CD  TENURE_DAY_QTY_SCALED  \\\n",
       "4024                BC               0.361143   \n",
       "5165                BC               0.520429   \n",
       "5437                AB               0.230857   \n",
       "7470                BC               0.001714   \n",
       "5174                AB               0.056286   \n",
       "\n",
       "                                             PRICE_PLAN  PROD_TV  \\\n",
       "4024                        L&R ULNW 6GB shareable data        1   \n",
       "5165                        L&R ULNW 6GB shareable data        1   \n",
       "5437  YourChoice L&R Premium 70 - Unlimited nationwi...        1   \n",
       "7470  Unlimited 30 - Unlimited nationwide talk, text...        1   \n",
       "5174                           $50 12GB UL min Plan SFD        0   \n",
       "\n",
       "           SEGMENT_NM         LOCALITY_NM                     LIFESTAGE  \\\n",
       "4024     Unclassified          Unassigned                    Unassigned   \n",
       "5165    Down to Earth  Lower-Middle Rural  Older Families & Empty Nests   \n",
       "5437    Juggling Acts   Younger Urban Mix     Younger Singles & Couples   \n",
       "7470  Just Getting By   Younger Urban Mix     Younger Singles & Couples   \n",
       "5174    Down to Earth  Lower-Middle Rural  Older Families & Empty Nests   \n",
       "\n",
       "      THREE_MONTH_AVG_WLN_BILLING_SCALED  THREE_MONTH_AVG_WLS_BILLING_SCALED  \\\n",
       "4024                            0.036612                            0.064822   \n",
       "5165                            0.028046                            0.035066   \n",
       "5437                            0.036271                            0.151685   \n",
       "7470                            0.023693                            0.158718   \n",
       "5174                            0.018258                            0.033996   \n",
       "\n",
       "      BAN_hashed  PROD_INTERNET     Score  \n",
       "4024    69593775              1  0.667636  \n",
       "5165     3920613              1  0.713431  \n",
       "5437    40594509              0  0.376904  \n",
       "7470   116353437              1  0.197703  \n",
       "5174   108765771              1  0.954711  "
      ]
     },
     "execution_count": 113,
     "metadata": {},
     "output_type": "execute_result"
    }
   ],
   "source": [
    "X_new_df1 = pd.DataFrame(X_test, columns=X.columns)\n",
    "eval_df = pd.merge(X_new_df1, data['BAN_hashed'], left_index = True, right_index = True)\n",
    "eval_df = pd.merge(eval_df, y_test, left_index = True, right_index = True)\n",
    "eval_df['Score'] = score[:,1]\n",
    "eval_df.head()\n"
   ]
  },
  {
   "cell_type": "code",
   "execution_count": 114,
   "metadata": {},
   "outputs": [],
   "source": [
    "eval_df.to_csv('./eval_df.csv')"
   ]
  },
  {
   "cell_type": "code",
   "execution_count": 115,
   "metadata": {},
   "outputs": [
    {
     "data": {
      "image/png": "[encoded data removed]",
      "text/plain": [
       "<Figure size 640x480 with 1 Axes>"
      ]
     },
     "metadata": {},
     "output_type": "display_data"
    }
   ],
   "source": [
    "import kds\n",
    "# CUMMULATIVE LIFT PLOT\n",
    "kds.metrics.plot_lift(y_test, score[:,1])"
   ]
  },
  {
   "cell_type": "code",
   "execution_count": null,
   "metadata": {},
   "outputs": [],
   "source": []
  }
 ],
 "metadata": {
  "kernelspec": {
   "display_name": "base",
   "language": "python",
   "name": "python3"
  },
  "language_info": {
   "codemirror_mode": {
    "name": "ipython",
    "version": 3
   },
   "file_extension": ".py",
   "mimetype": "text/x-python",
   "name": "python",
   "nbconvert_exporter": "python",
   "pygments_lexer": "ipython3",
   "version": "3.11.3"
  },
  "orig_nbformat": 4
 },
 "nbformat": 4,
 "nbformat_minor": 2
}
